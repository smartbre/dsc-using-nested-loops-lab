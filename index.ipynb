{
 "cells": [
  {
   "cell_type": "markdown",
   "metadata": {},
   "source": [
    "# Using Nested Loops - Lab"
   ]
  },
  {
   "cell_type": "markdown",
   "metadata": {},
   "source": [
    "## Introduction\n",
    "In this lab, you'll practice using nested loops to iterate over nested data structures and create new collections. To do this, you'll be using data from a soccer match to practice our nested loops."
   ]
  },
  {
   "cell_type": "markdown",
   "metadata": {},
   "source": [
    "## Objectives\n",
    "You will be able to:\n",
    "* Use a nested loop when it is appropriate"
   ]
  },
  {
   "cell_type": "markdown",
   "metadata": {},
   "source": [
    "## Instructions"
   ]
  },
  {
   "cell_type": "markdown",
   "metadata": {},
   "source": [
    "Use nested loops and the below object, `soccer_match`, to complete the following prompts and get the desired return values.\n",
    "\n",
    "Each object's structure is identical, but make sure to have a good idea of what that structure looks like before getting started. "
   ]
  },
  {
   "cell_type": "code",
   "execution_count": 1,
   "metadata": {},
   "outputs": [],
   "source": []
  },
  {
   "cell_type": "markdown",
   "metadata": {},
   "source": [
    "## Countries: A list of strings\n",
    "\n",
    "In the cell below, iterate over the `soccer_match` list to create a new list with the name of the country for each team. "
   ]
  },
  {
   "cell_type": "code",
   "execution_count": 13,
   "metadata": {},
   "outputs": [
    {
     "name": "stdout",
     "output_type": "stream",
     "text": [
      "['France', 'Australia']\n"
     ]
    }
   ],
   "source": [
    "# iterate over the soccer_match list to create a new list with the name of the country for each team\n",
    "countries = []\n",
    "for each_team in soccer_match:\n",
    "    countries.append(each_team['country'])\n",
    "print(countries)"
   ]
  },
  {
   "cell_type": "markdown",
   "metadata": {},
   "source": [
    "## Colors: Another list of strings!\n",
    "\n",
    "In the cell below, iterate over the `soccer_match` list to create a new list with the colors for each team this should be only one list containing strings for each of the country's colors."
   ]
  },
  {
   "cell_type": "code",
   "execution_count": 19,
   "metadata": {},
   "outputs": [
    {
     "name": "stdout",
     "output_type": "stream",
     "text": [
      "['blue', 'white', 'red', 'green', 'gold']\n"
     ]
    }
   ],
   "source": [
    "# iterate over the soccer_match list to create a new list with the colors for each team\n",
    "# this should be only one list containing strings for each of the country's colors\n",
    "colors = []\n",
    "for each_team in soccer_match:\n",
    "    for each_team_color in each_team['colors']:\n",
    "        colors.append(each_team_color)\n",
    "print(colors)"
   ]
  },
  {
   "cell_type": "markdown",
   "metadata": {},
   "source": [
    "## Players: A list of dictionaries\n",
    "\n",
    "This time, iterate over the `soccer_match` list to create a new list with the players from each team. `players` should be a single list containing the dictionaries for each of the country's players."
   ]
  },
  {
   "cell_type": "code",
   "execution_count": 25,
   "metadata": {},
   "outputs": [
    {
     "name": "stdout",
     "output_type": "stream",
     "text": [
      "[{'name': 'Hugo LLORIS', 'captain': True, 'shirt_number': 1, 'position': 'Goalie'}, {'name': 'Benjamin PAVARD', 'captain': False, 'shirt_number': 2, 'position': 'Defender'}, {'name': 'Raphael VARANE', 'captain': False, 'shirt_number': 4, 'position': 'Defender'}, {'name': 'Samuel UMTITI', 'captain': False, 'shirt_number': 5, 'position': 'Defender'}, {'name': 'Paul POGBA', 'captain': False, 'shirt_number': 6, 'position': 'Midfield'}, {'name': 'Antoine GRIEZMANN', 'captain': False, 'shirt_number': 7, 'position': 'Forward'}, {'name': 'Kylian MBAPPE', 'captain': False, 'shirt_number': 10, 'position': 'Forward'}, {'name': 'Ousmane DEMBELE', 'captain': False, 'shirt_number': 11, 'position': 'Forward'}, {'name': 'Corentin TOLISSO', 'captain': False, 'shirt_number': 12, 'position': 'Midfield'}, {'name': 'Ngolo KANTE', 'captain': False, 'shirt_number': 13, 'position': 'Midfield'}, {'name': 'Lucas HERNANDEZ', 'captain': False, 'shirt_number': 21, 'position': 'Defender'}, {'name': 'Mathew RYAN', 'captain': False, 'shirt_number': 1, 'position': 'Goalie'}, {'name': 'Mark MILLIGAN', 'captain': False, 'shirt_number': 5, 'position': 'Defender'}, {'name': 'Mathew LECKIE', 'captain': False, 'shirt_number': 7, 'position': 'Forward'}, {'name': 'Robbie KRUSE', 'captain': False, 'shirt_number': 10, 'position': 'Forward'}, {'name': 'Andrew NABBOUT', 'captain': False, 'shirt_number': 11, 'position': 'Forward'}, {'name': 'Aaron MOOY', 'captain': False, 'shirt_number': 13, 'position': 'Midfield'}, {'name': 'Mile JEDINAK', 'captain': True, 'shirt_number': 15, 'position': 'Midfield'}, {'name': 'Aziz BEHICH', 'captain': False, 'shirt_number': 16, 'position': 'Defender'}, {'name': 'Joshua RISDON', 'captain': False, 'shirt_number': 19, 'position': 'Defender'}, {'name': 'Trent SAINSBURY', 'captain': False, 'shirt_number': 20, 'position': 'Defender'}, {'name': 'Tom ROGIC', 'captain': False, 'shirt_number': 23, 'position': 'Midfield'}]\n"
     ]
    }
   ],
   "source": [
    "players = []\n",
    "for each_team in soccer_match:\n",
    "    for each_player in each_team['players']:\n",
    "        players.append(each_player)\n",
    "print(players)"
   ]
  },
  {
   "cell_type": "markdown",
   "metadata": {},
   "source": [
    "## Captains: Another list of dictionaries!\n",
    "\n",
    "Iterate over the `soccer_match` list to create a new list with the captains from each team.\n",
    "This should be a single list containing the dictionaries for each of the country's captains."
   ]
  },
  {
   "cell_type": "code",
   "execution_count": 32,
   "metadata": {},
   "outputs": [
    {
     "name": "stdout",
     "output_type": "stream",
     "text": [
      "2\n"
     ]
    }
   ],
   "source": [
    "captains = []\n",
    "for each_team in soccer_match:\n",
    "    for each_player in each_team['players']:\n",
    "        if each_player['captain'] == True:\n",
    "            captains.append(each_player)\n",
    "print(captains)"
   ]
  },
  {
   "cell_type": "markdown",
   "metadata": {},
   "source": [
    "## Home Team Players: A third list of dictionaries\n",
    "\n",
    "Iterate over the `soccer_match` list to create a new list with the players from ONLY the home team."
   ]
  },
  {
   "cell_type": "code",
   "execution_count": 52,
   "metadata": {},
   "outputs": [
    {
     "data": {
      "text/plain": [
       "[{'name': 'Hugo LLORIS',\n",
       "  'captain': True,\n",
       "  'shirt_number': 1,\n",
       "  'position': 'Goalie'},\n",
       " {'name': 'Benjamin PAVARD',\n",
       "  'captain': False,\n",
       "  'shirt_number': 2,\n",
       "  'position': 'Defender'},\n",
       " {'name': 'Raphael VARANE',\n",
       "  'captain': False,\n",
       "  'shirt_number': 4,\n",
       "  'position': 'Defender'},\n",
       " {'name': 'Samuel UMTITI',\n",
       "  'captain': False,\n",
       "  'shirt_number': 5,\n",
       "  'position': 'Defender'},\n",
       " {'name': 'Paul POGBA',\n",
       "  'captain': False,\n",
       "  'shirt_number': 6,\n",
       "  'position': 'Midfield'},\n",
       " {'name': 'Antoine GRIEZMANN',\n",
       "  'captain': False,\n",
       "  'shirt_number': 7,\n",
       "  'position': 'Forward'},\n",
       " {'name': 'Kylian MBAPPE',\n",
       "  'captain': False,\n",
       "  'shirt_number': 10,\n",
       "  'position': 'Forward'},\n",
       " {'name': 'Ousmane DEMBELE',\n",
       "  'captain': False,\n",
       "  'shirt_number': 11,\n",
       "  'position': 'Forward'},\n",
       " {'name': 'Corentin TOLISSO',\n",
       "  'captain': False,\n",
       "  'shirt_number': 12,\n",
       "  'position': 'Midfield'},\n",
       " {'name': 'Ngolo KANTE',\n",
       "  'captain': False,\n",
       "  'shirt_number': 13,\n",
       "  'position': 'Midfield'},\n",
       " {'name': 'Lucas HERNANDEZ',\n",
       "  'captain': False,\n",
       "  'shirt_number': 21,\n",
       "  'position': 'Defender'}]"
      ]
     },
     "execution_count": 52,
     "metadata": {},
     "output_type": "execute_result"
    }
   ],
   "source": [
    "home_team_players = []\n",
    "for team in soccer_match:\n",
    "    if team['home_team'] == True:\n",
    "        for each_player in team['players']:\n",
    "            home_team_players.append(each_player)\n",
    "home_team_players"
   ]
  },
  {
   "cell_type": "markdown",
   "metadata": {},
   "source": [
    "## Away Team Forwards: Yup, a list of dictionaries\n",
    "\n",
    "Iterate over the `soccer_match` list to create a new list with the information for each of the away team players whose `position` is `\"Forward\"`."
   ]
  },
  {
   "cell_type": "code",
   "execution_count": 96,
   "metadata": {},
   "outputs": [
    {
     "data": {
      "text/plain": [
       "[{'name': 'Mathew RYAN',\n",
       "  'captain': False,\n",
       "  'shirt_number': 1,\n",
       "  'position': 'Goalie'},\n",
       " {'name': 'Mark MILLIGAN',\n",
       "  'captain': False,\n",
       "  'shirt_number': 5,\n",
       "  'position': 'Defender'},\n",
       " {'name': 'Mathew LECKIE',\n",
       "  'captain': False,\n",
       "  'shirt_number': 7,\n",
       "  'position': 'Forward'},\n",
       " {'name': 'Robbie KRUSE',\n",
       "  'captain': False,\n",
       "  'shirt_number': 10,\n",
       "  'position': 'Forward'},\n",
       " {'name': 'Andrew NABBOUT',\n",
       "  'captain': False,\n",
       "  'shirt_number': 11,\n",
       "  'position': 'Forward'},\n",
       " {'name': 'Aaron MOOY',\n",
       "  'captain': False,\n",
       "  'shirt_number': 13,\n",
       "  'position': 'Midfield'},\n",
       " {'name': 'Mile JEDINAK',\n",
       "  'captain': True,\n",
       "  'shirt_number': 15,\n",
       "  'position': 'Midfield'},\n",
       " {'name': 'Aziz BEHICH',\n",
       "  'captain': False,\n",
       "  'shirt_number': 16,\n",
       "  'position': 'Defender'},\n",
       " {'name': 'Joshua RISDON',\n",
       "  'captain': False,\n",
       "  'shirt_number': 19,\n",
       "  'position': 'Defender'},\n",
       " {'name': 'Trent SAINSBURY',\n",
       "  'captain': False,\n",
       "  'shirt_number': 20,\n",
       "  'position': 'Defender'},\n",
       " {'name': 'Tom ROGIC',\n",
       "  'captain': False,\n",
       "  'shirt_number': 23,\n",
       "  'position': 'Midfield'}]"
      ]
     },
     "execution_count": 96,
     "metadata": {},
     "output_type": "execute_result"
    }
   ],
   "source": [
    "away_team_forwards = []\n",
    "for team in soccer_match:\n",
    "    if team['home_team'] == False:\n",
    "        for each_player in team['players']:\n",
    "            away_team_forwards.append(each_player)\n",
    "away_team_forwards"
   ]
  },
  {
   "cell_type": "markdown",
   "metadata": {},
   "source": [
    "## Player with the Highest Number\n",
    "\n",
    "Iterate over the `soccer_match` list and find the player with the highest `shirt_number`.  \n",
    "Store this player's information in the `player_with_highest_num` variable."
   ]
  },
  {
   "cell_type": "code",
   "execution_count": 73,
   "metadata": {},
   "outputs": [
    {
     "data": {
      "text/plain": [
       "{'name': 'Tom ROGIC',\n",
       " 'captain': False,\n",
       " 'shirt_number': 23,\n",
       " 'position': 'Midfield'}"
      ]
     },
     "execution_count": 73,
     "metadata": {},
     "output_type": "execute_result"
    }
   ],
   "source": [
    "player_with_highest_num = max(temp_player_with_highest_num, key=lambda x:x['shirt_number'])\n",
    "temp_player_with_highest_num = []\n",
    "for each_team in soccer_match:\n",
    "    for each_player in each_team['players']:\n",
    "        temp_player_with_highest_num.append(each_player)\n",
    "player_with_highest_num\n"
   ]
  },
  {
   "cell_type": "markdown",
   "metadata": {},
   "source": [
    "## Player Names: A Cleaned List\n",
    "\n",
    "Notice that the players oddly have their last name's in all caps. Create a list of all the names of the players in this match. Be sure to make sure their first and last names are properly capitalized (first letter upper case, proceeding letters lower case), as opposed to how they are currently formatted."
   ]
  },
  {
   "cell_type": "code",
   "execution_count": 97,
   "metadata": {},
   "outputs": [
    {
     "name": "stdout",
     "output_type": "stream",
     "text": [
      "Hugo Lloris\n",
      "Benjamin Pavard\n",
      "Raphael Varane\n",
      "Samuel Umtiti\n",
      "Paul Pogba\n",
      "Antoine Griezmann\n",
      "Kylian Mbappe\n",
      "Ousmane Dembele\n",
      "Corentin Tolisso\n",
      "Ngolo Kante\n",
      "Lucas Hernandez\n",
      "Mathew Ryan\n",
      "Mark Milligan\n",
      "Mathew Leckie\n",
      "Robbie Kruse\n",
      "Andrew Nabbout\n",
      "Aaron Mooy\n",
      "Mile Jedinak\n",
      "Aziz Behich\n",
      "Joshua Risdon\n",
      "Trent Sainsbury\n",
      "Tom Rogic\n"
     ]
    }
   ],
   "source": [
    "\n",
    "player_names = []\n",
    "for each_team in soccer_match:\n",
    "    for each_player in each_team['players']:\n",
    "        player_names.append(each_player)\n",
    "#question: how do I get just the names of the players?\n",
    "\n",
    "for name in player_names:\n",
    "    print(name['name'].title())"
   ]
  },
  {
   "cell_type": "markdown",
   "metadata": {},
   "source": [
    "## Summary"
   ]
  },
  {
   "cell_type": "markdown",
   "metadata": {},
   "source": [
    "In this lab, you practiced using nested loops to iterate through a nested data structure using data from a soccer match. Nested data structures can be quite complicated and it can become difficult to access more nested data. With nested loops, you are able to dynamically access this nested data and work with it as you would with a flatter data structure. It is important to think about the structure of the data before and while you're working so you know exactly what data you are working with at each level."
   ]
  }
 ],
 "metadata": {
  "kernelspec": {
   "display_name": "Python 3",
   "language": "python",
   "name": "python3"
  },
  "language_info": {
   "codemirror_mode": {
    "name": "ipython",
    "version": 3
   },
   "file_extension": ".py",
   "mimetype": "text/x-python",
   "name": "python",
   "nbconvert_exporter": "python",
   "pygments_lexer": "ipython3",
   "version": "3.8.3"
  },
  "toc": {
   "base_numbering": 1,
   "nav_menu": {},
   "number_sections": true,
   "sideBar": true,
   "skip_h1_title": false,
   "title_cell": "Table of Contents",
   "title_sidebar": "Contents",
   "toc_cell": false,
   "toc_position": {},
   "toc_section_display": true,
   "toc_window_display": false
  }
 },
 "nbformat": 4,
 "nbformat_minor": 2
}
